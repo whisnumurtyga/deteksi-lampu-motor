{
 "cells": [
  {
   "cell_type": "code",
   "execution_count": 16,
   "metadata": {},
   "outputs": [],
   "source": [
    "import cv2\n",
    "import numpy as np\n",
    "import os "
   ]
  },
  {
   "cell_type": "code",
   "execution_count": 17,
   "metadata": {},
   "outputs": [],
   "source": [
    "folder_path = 'images/roi-motor/SCOOPY'  # Ubah sesuai dengan path folder foto\n",
    "image_files = os.listdir(folder_path)\n",
    "count = 0\n",
    "# print(image_files)"
   ]
  },
  {
   "cell_type": "code",
   "execution_count": 18,
   "metadata": {},
   "outputs": [
    {
     "name": "stdout",
     "output_type": "stream",
     "text": [
      "num 0 x:50 y:273 w:99 h:116 area:7783.5 ratio:1.1717171717171717 hF/hC: 5.793103448275862\n"
     ]
    }
   ],
   "source": [
    "for image_file in image_files:\n",
    "    image_path = os.path.join(folder_path, image_file)\n",
    "    frame = cv2.imread(image_path)\n",
    "\n",
    "    frame = cv2.resize(frame, (frame.shape[1]*4, frame.shape[0]*4))\n",
    "    cv2.imshow(\"putih\", frame)\n",
    "\n",
    "    hsv_frame = cv2.cvtColor(frame, cv2.COLOR_BGR2HSV)\n",
    "\n",
    "    lower_white = np.array([0, 0, 200])\n",
    "    upper_white = np.array([180, 30, 255])\n",
    "    mask = cv2.inRange(hsv_frame, lower_white, upper_white)\n",
    "\n",
    "    result = cv2.bitwise_and(frame, frame, mask=mask)\n",
    "    cv2.imshow(\"result\", result)\n",
    "    # Temukan kontur pada gambar hasil\n",
    "    contours, _ = cv2.findContours(mask, cv2.RETR_EXTERNAL, cv2.CHAIN_APPROX_SIMPLE)\n",
    "\n",
    "    # Gambar kotak pada setiap kontur\n",
    "    for contour in contours:\n",
    "        area = cv2.contourArea(contour)\n",
    "        x, y, w, h = cv2.boundingRect(contour)\n",
    "        ratio_hFrame_per_hContour = frame.shape[0]/h\n",
    "        if area > 4000 and area < 18000 and y > 50 and h/w > 0.5:\n",
    "            print(f\"num {count} x:{x} y:{y} w:{w} h:{h} area:{area} ratio:{h/w} hF/hC: {ratio_hFrame_per_hContour}\")\n",
    "            cv2.putText(frame, str(count), (x, y), cv2.FONT_HERSHEY_SIMPLEX, 1, (0, 0, 255), 2)\n",
    "            cv2.rectangle(frame, (x, y), (x+w, y+h), (0, 255, 0), 2)\n",
    "            count += 1\n",
    "\n",
    "    cv2.imshow('Hasil Deteksi', frame)\n",
    "\n",
    "    if cv2.waitKey(0) & 0xFF == ord('q'):\n",
    "        break\n",
    "\n",
    "cv2.destroyAllWindows()"
   ]
  }
 ],
 "metadata": {
  "kernelspec": {
   "display_name": "base",
   "language": "python",
   "name": "python3"
  },
  "language_info": {
   "codemirror_mode": {
    "name": "ipython",
    "version": 3
   },
   "file_extension": ".py",
   "mimetype": "text/x-python",
   "name": "python",
   "nbconvert_exporter": "python",
   "pygments_lexer": "ipython3",
   "version": "3.9.16"
  },
  "orig_nbformat": 4
 },
 "nbformat": 4,
 "nbformat_minor": 2
}
