{
 "cells": [
  {
   "cell_type": "code",
   "execution_count": 1,
   "metadata": {},
   "outputs": [],
   "source": [
    "import cv2 as cv\n",
    "import os"
   ]
  },
  {
   "cell_type": "code",
   "execution_count": 2,
   "metadata": {},
   "outputs": [
    {
     "name": "stdout",
     "output_type": "stream",
     "text": [
      "Nama file: terusan_sulfat_utara\n"
     ]
    }
   ],
   "source": [
    "video_path = 'videos/terusan_sulfat_utara.mp4'\n",
    "video_name = os.path.basename(video_path)\n",
    "file_name = os.path.splitext(video_name)[0]\n",
    "print(\"Nama file:\", file_name)\n"
   ]
  },
  {
   "cell_type": "code",
   "execution_count": 3,
   "metadata": {},
   "outputs": [],
   "source": [
    "# object_detector = cv.createBackgroundSubtractorKNN(history=200, dist2Threshold=200,detectShadows=False)\n",
    "# object_detector = cv.createBackgroundSubtractorKNN(history=200, dist2Threshold=50,detectShadows=False)\n",
    "object_detector = cv.createBackgroundSubtractorKNN(history=100, dist2Threshold=50,detectShadows=False)"
   ]
  },
  {
   "cell_type": "code",
   "execution_count": 4,
   "metadata": {},
   "outputs": [
    {
     "name": "stdout",
     "output_type": "stream",
     "text": [
      "x:193 y:0 w:110 h:92 area:6095.0 ratio:0.8363636363636363\n",
      "x:188 y:0 w:114 h:109 area:7184.0 ratio:0.956140350877193\n",
      "x:181 y:0 w:119 h:114 area:7983.5 ratio:0.957983193277311\n",
      "x:177 y:0 w:117 h:121 area:8245.5 ratio:1.0341880341880343\n",
      "x:169 y:0 w:125 h:131 area:9080.0 ratio:1.048\n",
      "x:165 y:0 w:129 h:142 area:10030.0 ratio:1.1007751937984496\n",
      "x:158 y:0 w:136 h:153 area:10689.0 ratio:1.125\n",
      "x:148 y:0 w:146 h:165 area:11648.5 ratio:1.13013698630137\n",
      "x:138 y:0 w:156 h:177 area:12774.0 ratio:1.1346153846153846\n",
      "x:138 y:0 w:156 h:177 area:12763.5 ratio:1.1346153846153846\n",
      "x:135 y:4 w:156 h:186 area:13974.0 ratio:1.1923076923076923\n",
      "x:119 y:11 w:177 h:191 area:15355.5 ratio:1.07909604519774\n",
      "x:113 y:18 w:183 h:194 area:16241.5 ratio:1.0601092896174864\n",
      "x:111 y:27 w:183 h:201 area:17273.5 ratio:1.098360655737705\n",
      "x:105 y:36 w:189 h:200 area:17624.5 ratio:1.0582010582010581\n",
      "x:93 y:45 w:192 h:203 area:17883.5 ratio:1.0572916666666667\n",
      "x:93 y:56 w:181 h:210 area:17574.5 ratio:1.160220994475138\n",
      "x:75 y:67 w:178 h:203 area:17676.5 ratio:1.1404494382022472\n",
      "x:75 y:78 w:176 h:192 area:17153.5 ratio:1.0909090909090908\n",
      "x:56 y:89 w:195 h:181 area:15677.5 ratio:0.9282051282051282\n",
      "x:54 y:97 w:188 h:173 area:13518.0 ratio:0.9202127659574468\n",
      "x:54 y:110 w:168 h:160 area:11941.5 ratio:0.9523809523809523\n",
      "x:54 y:120 w:166 h:150 area:10864.0 ratio:0.9036144578313253\n",
      "x:55 y:134 w:105 h:136 area:8564.0 ratio:1.2952380952380953\n",
      "x:62 y:149 w:93 h:121 area:7474.0 ratio:1.3010752688172043\n",
      "x:53 y:164 w:96 h:106 area:6674.0 ratio:1.1041666666666667\n",
      "x:173 y:0 w:126 h:83 area:6154.0 ratio:0.6587301587301587\n",
      "x:173 y:0 w:117 h:90 area:6670.5 ratio:0.7692307692307693\n",
      "x:167 y:0 w:123 h:101 area:7618.5 ratio:0.8211382113821138\n",
      "x:160 y:0 w:128 h:109 area:8520.5 ratio:0.8515625\n",
      "x:151 y:0 w:133 h:114 area:8773.5 ratio:0.8571428571428571\n",
      "x:148 y:3 w:135 h:116 area:8567.0 ratio:0.8592592592592593\n",
      "x:139 y:11 w:145 h:114 area:8910.5 ratio:0.7862068965517242\n",
      "x:137 y:16 w:146 h:116 area:9233.5 ratio:0.7945205479452054\n",
      "x:137 y:16 w:146 h:116 area:9223.5 ratio:0.7945205479452054\n",
      "x:135 y:23 w:130 h:122 area:9246.5 ratio:0.9384615384615385\n",
      "x:127 y:0 w:137 h:151 area:11495.5 ratio:1.102189781021898\n",
      "x:120 y:37 w:144 h:123 area:10495.0 ratio:0.8541666666666666\n",
      "x:107 y:46 w:159 h:124 area:11298.0 ratio:0.779874213836478\n",
      "x:107 y:53 w:159 h:128 area:12077.5 ratio:0.8050314465408805\n",
      "x:106 y:60 w:158 h:132 area:12471.0 ratio:0.8354430379746836\n",
      "x:87 y:68 w:177 h:134 area:13376.0 ratio:0.7570621468926554\n",
      "x:87 y:22 w:176 h:193 area:16620.0 ratio:1.0965909090909092\n",
      "x:77 y:29 w:172 h:201 area:17084.0 ratio:1.1686046511627908\n",
      "x:67 y:37 w:182 h:198 area:17739.0 ratio:1.0879120879120878\n",
      "x:65 y:104 w:184 h:141 area:15057.5 ratio:0.7663043478260869\n",
      "x:63 y:113 w:184 h:150 area:15443.5 ratio:0.8152173913043478\n",
      "x:46 y:62 w:193 h:208 area:19338.5 ratio:1.077720207253886\n",
      "x:45 y:71 w:190 h:199 area:18968.5 ratio:1.0473684210526315\n",
      "x:44 y:80 w:189 h:190 area:17524.0 ratio:1.0052910052910053\n",
      "x:30 y:91 w:196 h:179 area:16231.5 ratio:0.9132653061224489\n",
      "x:29 y:98 w:197 h:172 area:15154.0 ratio:0.8730964467005076\n",
      "x:29 y:110 w:172 h:160 area:13143.0 ratio:0.9302325581395349\n",
      "x:29 y:119 w:171 h:151 area:12013.0 ratio:0.8830409356725146\n",
      "x:39 y:130 w:160 h:140 area:10720.0 ratio:0.875\n",
      "x:39 y:130 w:160 h:140 area:10654.5 ratio:0.875\n",
      "x:39 y:141 w:116 h:129 area:8688.5 ratio:1.1120689655172413\n",
      "x:34 y:154 w:102 h:116 area:7462.5 ratio:1.1372549019607843\n",
      "x:36 y:159 w:96 h:111 area:6381.0 ratio:1.15625\n",
      "x:135 y:0 w:120 h:91 area:6163.5 ratio:0.7583333333333333\n",
      "x:128 y:0 w:121 h:108 area:7105.5 ratio:0.8925619834710744\n",
      "x:116 y:0 w:124 h:113 area:7552.5 ratio:0.9112903225806451\n",
      "x:109 y:0 w:126 h:121 area:7989.0 ratio:0.9603174603174603\n",
      "x:104 y:0 w:124 h:134 area:8614.5 ratio:1.0806451612903225\n",
      "x:91 y:0 w:123 h:147 area:9146.0 ratio:1.1951219512195121\n",
      "x:80 y:0 w:134 h:163 area:10242.5 ratio:1.2164179104477613\n",
      "x:74 y:0 w:133 h:178 area:10993.0 ratio:1.3383458646616542\n",
      "x:60 y:0 w:147 h:191 area:12476.5 ratio:1.2993197278911566\n",
      "x:48 y:7 w:153 h:203 area:13420.0 ratio:1.326797385620915\n"
     ]
    }
   ],
   "source": [
    "cap = cv.VideoCapture(video_path)\n",
    "a = 0\n",
    "\n",
    "while True:\n",
    "    ret, frame = cap.read()\n",
    "    height, width, _ = frame.shape\n",
    "\n",
    "    frame = cv.resize(frame, (1020, 600) )\n",
    "    roi = frame[320:590, 450:790]\n",
    "    gray = cv.cvtColor(roi, cv.COLOR_BGR2GRAY)\n",
    "\n",
    "    median = cv.medianBlur(gray, 11)\n",
    "    gaussian = cv.GaussianBlur(median,(11,11),0)\n",
    "    mask = object_detector.apply(gaussian)\n",
    "\n",
    "    contours,_ = cv.findContours(mask, cv.RETR_TREE, cv.CHAIN_APPROX_SIMPLE)\n",
    "    \n",
    "    for cnt in contours:    \n",
    "        area = cv.contourArea(cnt)\n",
    "        x, y, w, h = cv.boundingRect(cnt)\n",
    "        if area > 6000 and area < 20000 and w/h < 2 and x > 10 and h/w < 1.4 and h/w > 0.6:\n",
    "            print(f\"x:{x} y:{y} w:{w} h:{h} area:{area} ratio:{h/w}\")\n",
    "            cv.rectangle(roi,(x,y),(x+w , y+h),(0,255,0),3)\n",
    "            a += 1\n",
    "            name_fel = f\"result/roi-motor/nonYolo/{file_name}/{str(a)}.jpg\"\n",
    "            cv.imwrite(name_fel, roi[y:y+h,x:x+w])\n",
    "                \n",
    "\n",
    "    cv.imshow(\"frame\", frame)\n",
    "    cv.imshow(\"roi\", roi)\n",
    "    cv.imshow(\"mask\", mask)\n",
    "\n",
    "    \n",
    "    if cv.waitKey(5) & 0xff == ord('q'):\n",
    "        break\n",
    "    \n",
    "cap.release()\n",
    "cv.destroyAllWindows()\n"
   ]
  }
 ],
 "metadata": {
  "kernelspec": {
   "display_name": "base",
   "language": "python",
   "name": "python3"
  },
  "language_info": {
   "codemirror_mode": {
    "name": "ipython",
    "version": 3
   },
   "file_extension": ".py",
   "mimetype": "text/x-python",
   "name": "python",
   "nbconvert_exporter": "python",
   "pygments_lexer": "ipython3",
   "version": "3.9.16"
  },
  "orig_nbformat": 4
 },
 "nbformat": 4,
 "nbformat_minor": 2
}
