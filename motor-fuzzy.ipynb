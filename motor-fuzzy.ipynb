{
 "cells": [
  {
   "cell_type": "code",
   "execution_count": 39,
   "metadata": {},
   "outputs": [],
   "source": [
    "import cv2 as cv\n",
    "import os"
   ]
  },
  {
   "cell_type": "code",
   "execution_count": 40,
   "metadata": {},
   "outputs": [
    {
     "name": "stdout",
     "output_type": "stream",
     "text": [
      "Nama file: terusan_sulfat_utara\n"
     ]
    }
   ],
   "source": [
    "video_path = 'videos/terusan_sulfat_utara.mp4'\n",
    "video_name = os.path.basename(video_path)\n",
    "file_name = os.path.splitext(video_name)[0]\n",
    "print(\"Nama file:\", file_name)\n"
   ]
  },
  {
   "cell_type": "code",
   "execution_count": 41,
   "metadata": {},
   "outputs": [],
   "source": [
    "# object_detector = cv.createBackgroundSubtractorKNN(history=200, dist2Threshold=200,detectShadows=False)\n",
    "# object_detector = cv.createBackgroundSubtractorKNN(history=200, dist2Threshold=50,detectShadows=False)\n",
    "object_detector = cv.createBackgroundSubtractorKNN(history=100, dist2Threshold=50,detectShadows=False)"
   ]
  },
  {
   "cell_type": "code",
   "execution_count": 42,
   "metadata": {},
   "outputs": [
    {
     "name": "stdout",
     "output_type": "stream",
     "text": [
      "x:193 y:0 w:110 h:92 area:6090.5 ratio:0.8363636363636363\n",
      "x:188 y:0 w:113 h:109 area:7188.5 ratio:0.9646017699115044\n",
      "x:181 y:0 w:120 h:114 area:7978.0 ratio:0.95\n",
      "x:178 y:0 w:116 h:121 area:8237.5 ratio:1.043103448275862\n",
      "x:169 y:0 w:125 h:131 area:9079.0 ratio:1.048\n",
      "x:164 y:0 w:130 h:142 area:10037.0 ratio:1.0923076923076922\n",
      "x:158 y:0 w:136 h:153 area:10689.5 ratio:1.125\n",
      "x:148 y:0 w:145 h:165 area:11590.0 ratio:1.1379310344827587\n",
      "x:138 y:0 w:155 h:177 area:12757.0 ratio:1.1419354838709677\n",
      "x:138 y:0 w:155 h:177 area:12763.5 ratio:1.1419354838709677\n",
      "x:135 y:4 w:158 h:186 area:14008.0 ratio:1.1772151898734178\n",
      "x:118 y:11 w:178 h:194 area:15339.5 ratio:1.0898876404494382\n",
      "x:113 y:18 w:183 h:194 area:16232.0 ratio:1.0601092896174864\n",
      "x:111 y:27 w:182 h:201 area:17258.5 ratio:1.1043956043956045\n",
      "x:105 y:36 w:188 h:200 area:17654.0 ratio:1.0638297872340425\n",
      "x:93 y:45 w:193 h:203 area:17801.0 ratio:1.0518134715025906\n",
      "x:93 y:56 w:181 h:210 area:17584.0 ratio:1.160220994475138\n",
      "x:75 y:67 w:179 h:203 area:17680.0 ratio:1.1340782122905029\n",
      "x:75 y:78 w:176 h:192 area:17150.0 ratio:1.0909090909090908\n",
      "x:56 y:89 w:195 h:181 area:15659.5 ratio:0.9282051282051282\n",
      "x:54 y:97 w:187 h:173 area:13529.5 ratio:0.9251336898395722\n"
     ]
    }
   ],
   "source": [
    "cap = cv.VideoCapture(video_path)\n",
    "a = 0\n",
    "\n",
    "while True:\n",
    "    ret, frame = cap.read()\n",
    "    height, width, _ = frame.shape\n",
    "\n",
    "    frame = cv.resize(frame, (1020, 600) )\n",
    "    roi = frame[320:590, 450:790]\n",
    "    gray = cv.cvtColor(roi, cv.COLOR_BGR2GRAY)\n",
    "\n",
    "    median = cv.medianBlur(gray, 11)\n",
    "    gaussian = cv.GaussianBlur(median,(11,11),0)\n",
    "    mask = object_detector.apply(gaussian)\n",
    "\n",
    "    contours,_ = cv.findContours(mask, cv.RETR_TREE, cv.CHAIN_APPROX_SIMPLE)\n",
    "    \n",
    "    for cnt in contours:    \n",
    "        area = cv.contourArea(cnt)\n",
    "        x, y, w, h = cv.boundingRect(cnt)\n",
    "        if area > 6000 and area < 20000 and w/h < 2 and x > 10 and h/w < 1.4 and h/w > 0.6:\n",
    "            print(f\"x:{x} y:{y} w:{w} h:{h} area:{area} ratio:{h/w}\")\n",
    "            cv.rectangle(roi,(x,y),(x+w , y+h),(0,255,0),3)\n",
    "            a += 1\n",
    "            name_fel = f\"result/roi-motor/nonYolo/{file_name}/{str(a)}.jpg\"\n",
    "            cv.imwrite(name_fel, roi[y:y+h,x:x+w])\n",
    "                \n",
    "\n",
    "    cv.imshow(\"frame\", frame)\n",
    "    cv.imshow(\"roi\", roi)\n",
    "    cv.imshow(\"mask\", mask)\n",
    "\n",
    "    \n",
    "    if cv.waitKey(5) & 0xff == ord('q'):\n",
    "        break\n",
    "    \n",
    "cap.release()\n",
    "cv.destroyAllWindows()\n"
   ]
  }
 ],
 "metadata": {
  "kernelspec": {
   "display_name": "base",
   "language": "python",
   "name": "python3"
  },
  "language_info": {
   "codemirror_mode": {
    "name": "ipython",
    "version": 3
   },
   "file_extension": ".py",
   "mimetype": "text/x-python",
   "name": "python",
   "nbconvert_exporter": "python",
   "pygments_lexer": "ipython3",
   "version": "3.9.16"
  },
  "orig_nbformat": 4
 },
 "nbformat": 4,
 "nbformat_minor": 2
}
