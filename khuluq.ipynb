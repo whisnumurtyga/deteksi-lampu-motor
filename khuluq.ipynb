{
 "cells": [
  {
   "cell_type": "code",
   "execution_count": null,
   "metadata": {},
   "outputs": [],
   "source": [
    "import cv2\n",
    "import numpy as np\n",
    "\n",
    "\n",
    "def roi(image):\n",
    "    kotak = np.array([\n",
    "        [(259, 600), (650, 600), (800, 200), (600, 200)]\n",
    "    ])\n",
    "    mask = np.zeros_like(image)\n",
    "    cv2.fillPoly(mask, kotak, (255, 255, 255))\n",
    "    masked_image = cv2.bitwise_and(image, mask)\n",
    "    return masked_image\n",
    "\n",
    "\n",
    "# Load the cascade classifier\n",
    "cascade_path = 'cascade.xml'\n",
    "cascade = cv2.CascadeClassifier(cascade_path)\n",
    "\n",
    "# Open the video file\n",
    "video_path = 'videos/terusan_sulfat_utara.mp4'\n",
    "cap = cv2.VideoCapture(video_path)\n",
    "\n",
    "# Loop through each frame of the video\n",
    "while True:\n",
    "    # Read the frame\n",
    "    ret, frame = cap.read()\n",
    "\n",
    "    # Check if frame was successfully read\n",
    "    if not ret:\n",
    "        break\n",
    "\n",
    "    frame = cv2.resize(frame, (1020, 600))\n",
    "    # Convert the frame to grayscale\n",
    "    gray = cv2.cvtColor(frame, cv2.COLOR_BGR2GRAY)\n",
    "\n",
    "    hasil = roi(gray)\n",
    "\n",
    "    # Detect objects using the cascade classifier\n",
    "    objects = cascade.detectMultiScale(\n",
    "        hasil, scaleFactor=1.1, minNeighbors=5, minSize=(30, 30))\n",
    "\n",
    "    # Draw rectangles around the detected objects\n",
    "    for (x, y, w, h) in objects:\n",
    "        cv2.rectangle(frame, (x, y), (x+w, y+h), (0, 255, 0), 2)\n",
    "\n",
    "    # Display the frame\n",
    "    cv2.imshow('Frame', frame)\n",
    "    cv2.imshow('roi', hasil)\n",
    "\n",
    "    # Wait for a key press\n",
    "    if cv2.waitKey(1) == ord('q'):\n",
    "        break\n",
    "\n",
    "# Release the video capture and close windows\n",
    "cap.release()\n",
    "cv2.destroyAllWindows()\n"
   ]
  },
  {
   "cell_type": "code",
   "execution_count": 3,
   "metadata": {},
   "outputs": [],
   "source": [
    "cv2.destroyAllWindows()"
   ]
  }
 ],
 "metadata": {
  "kernelspec": {
   "display_name": "base",
   "language": "python",
   "name": "python3"
  },
  "language_info": {
   "codemirror_mode": {
    "name": "ipython",
    "version": 3
   },
   "file_extension": ".py",
   "mimetype": "text/x-python",
   "name": "python",
   "nbconvert_exporter": "python",
   "pygments_lexer": "ipython3",
   "version": "3.9.16"
  },
  "orig_nbformat": 4
 },
 "nbformat": 4,
 "nbformat_minor": 2
}
